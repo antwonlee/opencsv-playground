{
 "cells": [
  {
   "cell_type": "code",
   "execution_count": 1,
   "metadata": {},
   "outputs": [
    {
     "data": {
      "text/plain": [
       "['',\n",
       " '/Users/anthonylee/anaconda3/envs/py27/lib/python27.zip',\n",
       " '/Users/anthonylee/anaconda3/envs/py27/lib/python2.7',\n",
       " '/Users/anthonylee/anaconda3/envs/py27/lib/python2.7/plat-darwin',\n",
       " '/Users/anthonylee/anaconda3/envs/py27/lib/python2.7/plat-mac',\n",
       " '/Users/anthonylee/anaconda3/envs/py27/lib/python2.7/plat-mac/lib-scriptpackages',\n",
       " '/Users/anthonylee/anaconda3/envs/py27/lib/python2.7/lib-tk',\n",
       " '/Users/anthonylee/anaconda3/envs/py27/lib/python2.7/lib-old',\n",
       " '/Users/anthonylee/anaconda3/envs/py27/lib/python2.7/lib-dynload',\n",
       " '/Users/anthonylee/anaconda3/envs/py27/lib/python2.7/site-packages',\n",
       " '/Users/anthonylee/anaconda3/envs/py27/lib/python2.7/site-packages/IPython/extensions',\n",
       " '/Users/anthonylee/.ipython']"
      ]
     },
     "execution_count": 1,
     "metadata": {},
     "output_type": "execute_result"
    }
   ],
   "source": [
    "import os\n",
    "os.sys.path"
   ]
  },
  {
   "cell_type": "code",
   "execution_count": 2,
   "metadata": {
    "collapsed": true
   },
   "outputs": [],
   "source": [
    "import sys"
   ]
  },
  {
   "cell_type": "code",
   "execution_count": 4,
   "metadata": {},
   "outputs": [],
   "source": [
    "import cv2\n",
    "import numpy as np"
   ]
  },
  {
   "cell_type": "code",
   "execution_count": 5,
   "metadata": {},
   "outputs": [
    {
     "ename": "AttributeError",
     "evalue": "'module' object has no attribute 'ORB'",
     "output_type": "error",
     "traceback": [
      "\u001b[0;31m---------------------------------------------------------------------------\u001b[0m",
      "\u001b[0;31mAttributeError\u001b[0m                            Traceback (most recent call last)",
      "\u001b[0;32m<ipython-input-5-4c20a6d263f5>\u001b[0m in \u001b[0;36m<module>\u001b[0;34m()\u001b[0m\n\u001b[1;32m     37\u001b[0m \u001b[0;34m\u001b[0m\u001b[0m\n\u001b[1;32m     38\u001b[0m     \u001b[0;31m# Initialize ORB detector\u001b[0m\u001b[0;34m\u001b[0m\u001b[0;34m\u001b[0m\u001b[0m\n\u001b[0;32m---> 39\u001b[0;31m     \u001b[0morb\u001b[0m \u001b[0;34m=\u001b[0m \u001b[0mcv2\u001b[0m\u001b[0;34m.\u001b[0m\u001b[0mORB\u001b[0m\u001b[0;34m(\u001b[0m\u001b[0;34m)\u001b[0m\u001b[0;34m\u001b[0m\u001b[0m\n\u001b[0m\u001b[1;32m     40\u001b[0m \u001b[0;34m\u001b[0m\u001b[0m\n\u001b[1;32m     41\u001b[0m     \u001b[0;31m# Extract keypoints and descriptors\u001b[0m\u001b[0;34m\u001b[0m\u001b[0;34m\u001b[0m\u001b[0m\n",
      "\u001b[0;31mAttributeError\u001b[0m: 'module' object has no attribute 'ORB'"
     ]
    }
   ],
   "source": [
    "import sys\n",
    "\n",
    "import cv2\n",
    "import numpy as np\n",
    "\n",
    "def draw_matches(img1, keypoints1, img2, keypoints2, matches):\n",
    "    rows1, cols1 = img1.shape[:2]\n",
    "    rows2, cols2 = img2.shape[:2]\n",
    "\n",
    "    # Create a new output image that concatenates the two images together\n",
    "    output_img = np.zeros((max([rows1,rows2]), cols1+cols2, 3), dtype='uint8')\n",
    "    output_img[:rows1, :cols1, :] = np.dstack([img1, img1, img1])\n",
    "    output_img[:rows2, cols1:cols1+cols2, :] = np.dstack([img2, img2, img2])\n",
    "\n",
    "    # Draw connecting lines between matching keypoints\n",
    "    for match in matches:\n",
    "        # Get the matching keypoints for each of the images\n",
    "        img1_idx = match.queryIdx\n",
    "        img2_idx = match.trainIdx\n",
    "\n",
    "        (x1, y1) = keypoints1[img1_idx].pt\n",
    "        (x2, y2) = keypoints2[img2_idx].pt\n",
    "\n",
    "        # Draw a small circle at both co-ordinates and then draw a line\n",
    "        radius = 4\n",
    "        colour = (0,255,0)   # green\n",
    "        thickness = 1\n",
    "        cv2.circle(output_img, (int(x1),int(y1)), radius, colour, thickness)\n",
    "        cv2.circle(output_img, (int(x2)+cols1,int(y2)), radius, colour, thickness)\n",
    "        cv2.line(output_img, (int(x1),int(y1)), (int(x2)+cols1,int(y2)), colour, thickness)\n",
    "\n",
    "    return output_img\n",
    "\n",
    "if __name__=='__main__':\n",
    "    img1 = cv2.imread(sys.argv[1], 0)   # query image (rotated subregion)\n",
    "    img2 = cv2.imread(sys.argv[2], 0)   # train image (full image)\n",
    "\n",
    "    # Initialize ORB detector\n",
    "    orb = cv2.ORB()\n",
    "\n",
    "    # Extract keypoints and descriptors\n",
    "    keypoints1, descriptors1 = orb.detectAndCompute(img1, None)\n",
    "    keypoints2, descriptors2 = orb.detectAndCompute(img2, None)\n",
    "\n",
    "    # Create Brute Force matcher object\n",
    "    bf = cv2.BFMatcher(cv2.NORM_HAMMING, crossCheck=True)\n",
    "\n",
    "    # Match descriptors\n",
    "    matches = bf.match(descriptors1, descriptors2)\n",
    "\n",
    "    # Sort them in the order of their distance\n",
    "    matches = sorted(matches, key = lambda x:x.distance)\n",
    "\n",
    "    # Draw first 'n' matches\n",
    "    img3 = draw_matches(img1, keypoints1, img2, keypoints2, matches[:30])\n",
    "\n",
    "    cv2.imshow('Matched keypoints', img3)\n",
    "    cv2.waitKey()"
   ]
  },
  {
   "cell_type": "code",
   "execution_count": null,
   "metadata": {
    "collapsed": true
   },
   "outputs": [],
   "source": []
  }
 ],
 "metadata": {
  "kernelspec": {
   "display_name": "Python 2",
   "language": "python",
   "name": "python2"
  },
  "language_info": {
   "codemirror_mode": {
    "name": "ipython",
    "version": 2
   },
   "file_extension": ".py",
   "mimetype": "text/x-python",
   "name": "python",
   "nbconvert_exporter": "python",
   "pygments_lexer": "ipython2",
   "version": "2.7.14"
  }
 },
 "nbformat": 4,
 "nbformat_minor": 2
}
