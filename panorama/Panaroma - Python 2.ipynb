{
 "cells": [
  {
   "cell_type": "code",
   "execution_count": 1,
   "metadata": {},
   "outputs": [
    {
     "data": {
      "text/plain": [
       "['',\n",
       " '/Users/anthonylee/anaconda3/envs/py27/lib/python27.zip',\n",
       " '/Users/anthonylee/anaconda3/envs/py27/lib/python2.7',\n",
       " '/Users/anthonylee/anaconda3/envs/py27/lib/python2.7/plat-darwin',\n",
       " '/Users/anthonylee/anaconda3/envs/py27/lib/python2.7/plat-mac',\n",
       " '/Users/anthonylee/anaconda3/envs/py27/lib/python2.7/plat-mac/lib-scriptpackages',\n",
       " '/Users/anthonylee/anaconda3/envs/py27/lib/python2.7/lib-tk',\n",
       " '/Users/anthonylee/anaconda3/envs/py27/lib/python2.7/lib-old',\n",
       " '/Users/anthonylee/anaconda3/envs/py27/lib/python2.7/lib-dynload',\n",
       " '/Users/anthonylee/anaconda3/envs/py27/lib/python2.7/site-packages',\n",
       " '/Users/anthonylee/anaconda3/envs/py27/lib/python2.7/site-packages/IPython/extensions',\n",
       " '/Users/anthonylee/.ipython']"
      ]
     },
     "execution_count": 1,
     "metadata": {},
     "output_type": "execute_result"
    }
   ],
   "source": [
    "import os\n",
    "os.sys.path"
   ]
  },
  {
   "cell_type": "code",
   "execution_count": 2,
   "metadata": {
    "collapsed": true
   },
   "outputs": [],
   "source": [
    "import sys"
   ]
  },
  {
   "cell_type": "code",
   "execution_count": 3,
   "metadata": {},
   "outputs": [
    {
     "ename": "ImportError",
     "evalue": "No module named numpy",
     "output_type": "error",
     "traceback": [
      "\u001b[0;31m---------------------------------------------------------------------------\u001b[0m",
      "\u001b[0;31mImportError\u001b[0m                               Traceback (most recent call last)",
      "\u001b[0;32m<ipython-input-3-4ee716103900>\u001b[0m in \u001b[0;36m<module>\u001b[0;34m()\u001b[0m\n\u001b[0;32m----> 1\u001b[0;31m \u001b[0;32mimport\u001b[0m \u001b[0mnumpy\u001b[0m \u001b[0;32mas\u001b[0m \u001b[0mnp\u001b[0m\u001b[0;34m\u001b[0m\u001b[0m\n\u001b[0m",
      "\u001b[0;31mImportError\u001b[0m: No module named numpy"
     ]
    }
   ],
   "source": [
    "import numpy as np"
   ]
  },
  {
   "cell_type": "code",
   "execution_count": null,
   "metadata": {
    "collapsed": true
   },
   "outputs": [],
   "source": []
  }
 ],
 "metadata": {
  "kernelspec": {
   "display_name": "Python 2",
   "language": "python",
   "name": "python2"
  },
  "language_info": {
   "codemirror_mode": {
    "name": "ipython",
    "version": 2
   },
   "file_extension": ".py",
   "mimetype": "text/x-python",
   "name": "python",
   "nbconvert_exporter": "python",
   "pygments_lexer": "ipython2",
   "version": "2.7.14"
  }
 },
 "nbformat": 4,
 "nbformat_minor": 2
}
