{
 "cells": [
  {
   "cell_type": "code",
   "execution_count": 105,
   "metadata": {
    "collapsed": true
   },
   "outputs": [],
   "source": [
    "# Import libraries\n",
    "\n",
    "import cv2\n",
    "import numpy as np\n",
    "from matplotlib import pyplot as plt"
   ]
  },
  {
   "cell_type": "code",
   "execution_count": 93,
   "metadata": {},
   "outputs": [],
   "source": [
    "a = cv2.imread('images/fig5.png')"
   ]
  },
  {
   "cell_type": "code",
   "execution_count": 94,
   "metadata": {},
   "outputs": [
    {
     "name": "stdout",
     "output_type": "stream",
     "text": [
      "(466, 700, 3)\n"
     ]
    }
   ],
   "source": [
    "print(a.shape)"
   ]
  },
  {
   "cell_type": "code",
   "execution_count": 95,
   "metadata": {},
   "outputs": [
    {
     "name": "stdout",
     "output_type": "stream",
     "text": [
      "(2, 3)\n"
     ]
    }
   ],
   "source": [
    "array = np.array([[1, 2, 3], [4, 5, 6]])\n",
    "print(array.shape)"
   ]
  },
  {
   "cell_type": "code",
   "execution_count": 96,
   "metadata": {},
   "outputs": [
    {
     "name": "stdout",
     "output_type": "stream",
     "text": [
      "First Shape: (700, 3)\n",
      "First X: 700\n",
      "First Y: 3\n",
      "======================\n",
      "First Ten Arrays:\n",
      " [[103  61  24]\n",
      " [105  63  28]\n",
      " [106  64  29]\n",
      " [108  63  30]\n",
      " [110  65  32]\n",
      " [110  65  31]\n",
      " [110  65  31]\n",
      " [112  68  31]\n",
      " [113  68  31]\n",
      " [113  68  31]]\n",
      "======================\n",
      "Last Ten Arrays:\n",
      " [[233 221 211]\n",
      " [233 221 211]\n",
      " [232 220 208]\n",
      " [231 219 207]\n",
      " [229 217 205]\n",
      " [228 216 204]\n",
      " [232 217 201]\n",
      " [231 216 200]\n",
      " [229 214 198]\n",
      " [227 212 196]]\n",
      "======================\n",
      "105\n",
      "63\n",
      "28\n",
      "[[103  61  24]\n",
      " [105  63  28]\n",
      " [106  64  29]\n",
      " ..., \n",
      " [231 216 200]\n",
      " [229 214 198]\n",
      " [227 212 196]]\n"
     ]
    }
   ],
   "source": [
    "print(\"First Shape:\", a[0].shape)\n",
    "print(\"First X:\", a[0].shape[0])\n",
    "print(\"First Y:\", a[0].shape[1])\n",
    "print(\"======================\")\n",
    "print(\"First Ten Arrays:\\n\", a[0, 0:10])\n",
    "print(\"======================\")\n",
    "print(\"Last Ten Arrays:\\n\", a[0, -10:])\n",
    "print(\"======================\")\n",
    "print(a[0, 1, 0])\n",
    "print(a[0, 1, 1])\n",
    "print(a[0, 1, 2])\n",
    "print(a[0])"
   ]
  },
  {
   "cell_type": "code",
   "execution_count": 97,
   "metadata": {},
   "outputs": [
    {
     "name": "stdout",
     "output_type": "stream",
     "text": [
      "Height of Image is 466 pixels\n"
     ]
    }
   ],
   "source": [
    "print(\"Height of Image is\", int(a.shape[0]), \"pixels\")"
   ]
  },
  {
   "cell_type": "code",
   "execution_count": 98,
   "metadata": {},
   "outputs": [
    {
     "name": "stdout",
     "output_type": "stream",
     "text": [
      "Width of Image os 700 pixels\n"
     ]
    }
   ],
   "source": [
    "print(\"Width of Image os\", int(a.shape[1]), \"pixels\")"
   ]
  },
  {
   "cell_type": "code",
   "execution_count": 99,
   "metadata": {},
   "outputs": [
    {
     "name": "stdout",
     "output_type": "stream",
     "text": [
      "[103 105 106 108 110 110 110 112 113 113] [61 63 64 63 65 65 65 68 68 68]\n"
     ]
    }
   ],
   "source": [
    "print(a[0, :10, 0], a[0, :10, 1])"
   ]
  },
  {
   "cell_type": "code",
   "execution_count": 104,
   "metadata": {},
   "outputs": [],
   "source": [
    "sobel_x = cv2.Sobel(img,cv2.CV_64F,1,0,ksize=5)\n",
    "sobel_y = cv2.Sobel(img,cv2.CV_64F,0,1,ksize=5)"
   ]
  },
  {
   "cell_type": "code",
   "execution_count": 107,
   "metadata": {},
   "outputs": [
    {
     "name": "stdout",
     "output_type": "stream",
     "text": [
      "[[103  61  24]\n",
      " [105  63  28]\n",
      " [106  64  29]\n",
      " ..., \n",
      " [231 216 200]\n",
      " [229 214 198]\n",
      " [227 212 196]]\n"
     ]
    }
   ],
   "source": [
    "print(a[0])"
   ]
  },
  {
   "cell_type": "code",
   "execution_count": 108,
   "metadata": {},
   "outputs": [
    {
     "name": "stdout",
     "output_type": "stream",
     "text": [
      "[[   0.    0.    0.]\n",
      " [ 150.   82.  178.]\n",
      " [ 214.   68.  180.]\n",
      " ..., \n",
      " [-122. -152. -210.]\n",
      " [-146. -146. -146.]\n",
      " [   0.    0.    0.]]\n"
     ]
    }
   ],
   "source": [
    "print(sobel_x[0])"
   ]
  }
 ],
 "metadata": {
  "kernelspec": {
   "display_name": "Python 3",
   "language": "python",
   "name": "python3"
  },
  "language_info": {
   "codemirror_mode": {
    "name": "ipython",
    "version": 3
   },
   "file_extension": ".py",
   "mimetype": "text/x-python",
   "name": "python",
   "nbconvert_exporter": "python",
   "pygments_lexer": "ipython3",
   "version": "3.6.2"
  }
 },
 "nbformat": 4,
 "nbformat_minor": 2
}
